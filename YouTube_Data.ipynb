{
  "nbformat": 4,
  "nbformat_minor": 0,
  "metadata": {
    "colab": {
      "name": "YouTube Data",
      "provenance": [],
      "collapsed_sections": []
    },
    "kernelspec": {
      "name": "python3",
      "display_name": "Python 3"
    },
    "language_info": {
      "name": "python"
    }
  },
  "cells": [
    {
      "cell_type": "code",
      "source": [
        "!pip install scrapetube\n",
        "!pip install opencv-python\n",
        "!pip install sklearn\n",
        "!pip install h2o4gpu\n",
        "!mkdir d1_img"
      ],
      "metadata": {
        "id": "rQ6LJ5DRMFKu"
      },
      "execution_count": null,
      "outputs": []
    },
    {
      "cell_type": "code",
      "source": [
        "import scrapetube\n",
        "import pandas as pd\n",
        "import requests\n",
        "import json\n",
        "from csv import writer\n",
        "import time\n",
        "import numpy as np\n",
        "from urllib.request import urlopen\n",
        "from collections import Counter\n",
        "import cv2\n",
        "import argparse\n",
        "import cv2"
      ],
      "metadata": {
        "id": "S84J0QNmMDE2"
      },
      "execution_count": null,
      "outputs": []
    },
    {
      "cell_type": "code",
      "execution_count": null,
      "metadata": {
        "id": "DO93c5HHLQGO"
      },
      "outputs": [],
      "source": [
        "channelid=[\"channel_id\"]\n",
        "api=\"your_youtube_api_key\""
      ]
    },
    {
      "cell_type": "code",
      "source": [
        "allvidid=pd.DataFrame(columns=['vidid'])\n",
        "for i in channelid:\n",
        "    videos = scrapetube.get_channel(i)\n",
        "    for video in videos:\n",
        "        print(video['videoId'])\n",
        "        df=pd.DataFrame([[video['videoId']]],columns=['vidid'])\n",
        "        allvidid=pd.concat([allvidid,df])\n",
        "allvidid.to_csv(\"vidid.csv\",header=True,index=False)\n"
      ],
      "metadata": {
        "id": "mRCWAtabLUjw"
      },
      "execution_count": null,
      "outputs": []
    },
    {
      "cell_type": "code",
      "source": [
        "vid = pd.read_csv(\"vidid.csv\")\n",
        "pd.DataFrame({},columns=['vidtitle','chanid','viddesc','vidpub','channame','vidtags','vidcat','vidlang','viddu','vidview','vidlikes','vidcom','vidthumb','vidid']).to_csv(\"exdata.csv\",header=True, index=False)\n",
        "def yttimeconvert(duration):\n",
        "   day_time = duration.split('T')\n",
        "   day_duration = day_time[0].replace('P', '')\n",
        "   day_list = day_duration.split('D')\n",
        "   if len(day_list) == 2:\n",
        "      day = int(day_list[0]) * 60 * 60 * 24\n",
        "      day_list = day_list[1]\n",
        "   else:\n",
        "      day = 0\n",
        "      day_list = day_list[0]\n",
        "   hour_list = day_time[1].split('H')\n",
        "   if len(hour_list) == 2:\n",
        "      hour = int(hour_list[0]) * 60 * 60\n",
        "      hour_list = hour_list[1]\n",
        "   else:\n",
        "      hour = 0\n",
        "      hour_list = hour_list[0]\n",
        "   minute_list = hour_list.split('M')\n",
        "   if len(minute_list) == 2:\n",
        "      minute = int(minute_list[0]) * 60\n",
        "      minute_list = minute_list[1]\n",
        "   else:\n",
        "      minute = 0\n",
        "      minute_list = minute_list[0]\n",
        "   second_list = minute_list.split('S')\n",
        "   if len(second_list) == 2:\n",
        "      second = int(second_list[0])\n",
        "   else:\n",
        "      second = 0\n",
        "   return day + hour + minute + second\n",
        "def main(urs):\n",
        "   url = \"https://youtube.googleapis.com/youtube/v3/videos?part=snippet%2CcontentDetails%2Cstatistics&id=\"+urs+\"&key=\"+api\n",
        "   response = urlopen(url)\n",
        "   json_load = json.loads(response.read())\n",
        "\n",
        "   try:\n",
        "      vidtitle=json_load['items'][0]['snippet']['title']\n",
        "   except:\n",
        "      vidtitle=\"\"\n",
        "   try:\n",
        "      chanid=json_load['items'][0]['snippet']['channelId']\n",
        "   except:\n",
        "      chanid=np.nan\n",
        "   try:\n",
        "      viddesc=json_load['items'][0]['snippet']['description']\n",
        "   except:\n",
        "      viddesc=np.nan\n",
        "   try:\n",
        "      vidpub=json_load['items'][0]['snippet']['publishedAt']\n",
        "   except:\n",
        "      vidpub=np.nan\n",
        "   try:\n",
        "      channame=json_load['items'][0]['snippet']['channelTitle']\n",
        "   except:\n",
        "      channame=np.nan\n",
        "   try:\n",
        "      vidtags=json_load['items'][0]['snippet']['tags']\n",
        "   except:\n",
        "      vidtags=np.nan\n",
        "   try:\n",
        "      vidcat=json_load['items'][0]['snippet']['categoryId']\n",
        "   except:\n",
        "      vidcat=np.nan\n",
        "   try:\n",
        "      vidlang=json_load['items'][0]['snippet']['defaultAudioLanguage']\n",
        "   except:\n",
        "      vidlang=np.nan\n",
        "   try:\n",
        "      viddu=time.strftime(\"%H:%M:%S\",time.gmtime(yttimeconvert(json_load['items'][0]['contentDetails']['duration'])))\n",
        "   except:\n",
        "      viddu=np.nan\n",
        "   try:\n",
        "      vidview=json_load['items'][0]['statistics']['viewCount']\n",
        "   except:\n",
        "      vidview=np.nan\n",
        "   try:\n",
        "      vidlikes=json_load['items'][0]['statistics']['likeCount']\n",
        "   except:\n",
        "      vidlikes=np.nan\n",
        "   try:\n",
        "      vidcom=json_load['items'][0]['statistics']['commentCount']\n",
        "   except:\n",
        "      vidcom=np.nan\n",
        "   try:\n",
        "      vidthumb=json_load['items'][0]['snippet']['thumbnails']['maxres']['url']\n",
        "   except:\n",
        "      vidthumb=json_load['items'][0]['snippet']['thumbnails']['high']['url']\n",
        "   try:\n",
        "      vidid=json_load['items'][0]['id']\n",
        "   except:\n",
        "      vidid=urs\n",
        "   df2 = pd.DataFrame([[vidtitle,chanid,viddesc,vidpub,channame,vidtags,vidcat,vidlang,viddu,vidview,vidlikes,vidcom,vidthumb,vidid]],columns=['vidtitle','chanid','viddesc','vidpub','channame','vidtags','vidcat','vidlang','viddu','vidview','vidlikes','vidcom','vidthumb','vidid'])\n",
        "   return df2\n",
        "    \n",
        "\n",
        "for i in range(0,len(vid.index+1)):\n",
        "   data = main(str(vid.iloc[i,0]))\n",
        "   print (i)\n",
        "   data.to_csv(\"exdata.csv\", mode='a', header=False, index=False)\n",
        "   \n"
      ],
      "metadata": {
        "id": "3G94b6K-MsFG"
      },
      "execution_count": null,
      "outputs": []
    },
    {
      "cell_type": "code",
      "source": [
        "cldata = pd.read_csv(\"exdata.csv\")\n",
        "cldata = cldata.drop_duplicates(subset=['vidid'])"
      ],
      "metadata": {
        "id": "lwp18OPdR4DG"
      },
      "execution_count": null,
      "outputs": []
    },
    {
      "cell_type": "code",
      "source": [
        "for i in range(len(cldata)):\n",
        "    img_data = requests.get(cldata.iloc[i,12]).content\n",
        "    with open(\"./d1_img/\"+cldata.iloc[i,13]+\".jpg\", 'wb') as handler:\n",
        "        handler.write(img_data)"
      ],
      "metadata": {
        "id": "ACIltTH9Trt7"
      },
      "execution_count": null,
      "outputs": []
    },
    {
      "cell_type": "code",
      "source": [
        "from sklearn.cluster import KMeans\n",
        "#from h2o4gpu.solvers import KMeans\n",
        "colordf=pd.DataFrame({},columns=['vidid','color'])\n",
        "def get_dominant_color(image, k=4, image_processing_size=None):\n",
        "\n",
        "    # resize image if new dims provided\n",
        "    if image_processing_size is not None:\n",
        "        image = cv2.resize(image, image_processing_size, interpolation=cv2.INTER_AREA)\n",
        "\n",
        "    # reshape the image to be a list of pixels\n",
        "    image = image.reshape((image.shape[0] * image.shape[1], 3))\n",
        "\n",
        "    # cluster the pixels and assign labels\n",
        "    clt = KMeans(n_clusters=k)\n",
        "    labels = clt.fit_predict(image)\n",
        "\n",
        "    # count labels to find most popular\n",
        "    label_counts = Counter(labels)\n",
        "\n",
        "    # subset out most popular centroid\n",
        "    dominant_color = clt.cluster_centers_[label_counts.most_common(1)[0][0]]\n",
        "\n",
        "    return list(dominant_color)\n",
        "\n",
        "\n",
        "# construct the argument parser and parse the arguments\n",
        "\n",
        "# read in image of interest\n",
        "for i in range(len(cldata)):\n",
        "  bgr_image = cv2.imread(\"./d1_img/\"+cldata.iloc[i,13]+\".jpg\")\n",
        "# convert to HSV; this is a better representation of how we see color\n",
        "  hsv_image = cv2.cvtColor(bgr_image, cv2.COLOR_BGR2HSV)\n",
        "\n",
        "  # extract dominant color\n",
        "  # (aka the centroid of the most popular k means cluster)\n",
        "  dom_color = get_dominant_color(hsv_image, k=6)\n",
        "\n",
        "  # create a square showing dominant color of equal size to input image\n",
        "  dom_color_hsv = np.full(bgr_image.shape, dom_color, dtype='uint8')\n",
        "  # convert to bgr color space for display\n",
        "  dom_color_bgr = cv2.cvtColor(dom_color_hsv, cv2.COLOR_HSV2BGR)\n",
        "\n",
        "  # concat input image and dom color square side by side for display\n",
        "  output_image = np.hstack((bgr_image, dom_color_bgr))\n",
        "\n",
        "  # show results to screen\n",
        "  #cv2_imshow( output_image)\n",
        "  #print(dom_color_hsv[1][1])\n",
        "  #df2=pd.DataFrame(( pd.Series([cldata.iloc[i,13],dom_color_hsv[1][1]])))\n",
        "  colordf = colordf.append( pd.Series([cldata.iloc[i,13],dom_color_hsv[1][1]],index=colordf.columns),ignore_index=True)\n",
        "  colordf.to_csv(\"color.csv\", mode='a', header=False, index=False)\n"
      ],
      "metadata": {
        "id": "uXZUuRhxW9vy"
      },
      "execution_count": null,
      "outputs": []
    },
    {
      "cell_type": "code",
      "source": [
        "newdf = pd.merge(cldata,colordf)"
      ],
      "metadata": {
        "id": "Elws_3ukaXcD"
      },
      "execution_count": null,
      "outputs": []
    },
    {
      "cell_type": "code",
      "source": [
        "colordf.iloc[0,1][1]"
      ],
      "metadata": {
        "id": "TDJSKp2Bc0C2"
      },
      "execution_count": null,
      "outputs": []
    },
    {
      "cell_type": "code",
      "source": [
        "excolor = pd.DataFrame({},columns=['vidid','color','hue','sat','val'])\n",
        "for i in range(len(colordf)):\n",
        "  excolor = excolor.append({'vidid':colordf.iloc[i,0],'color':colordf.iloc[i,1],'hue':np.array(colordf.iloc[i,1][0]),'sat':np.array(colordf.iloc[i,1][1]),'val':np.array(colordf.iloc[i,1][2])},ignore_index=True)"
      ],
      "metadata": {
        "id": "BX_KyWJ2dkhE"
      },
      "execution_count": null,
      "outputs": []
    },
    {
      "cell_type": "code",
      "source": [
        "colorplot=pd.DataFrame({},columns=['color','value'])\n",
        "colorplot=colorplot.append({'color':'red','value':excolor[excolor['hue'].between(0,60)].shape[0]},ignore_index=True)\n",
        "colorplot=colorplot.append({'color':'yellow','value':excolor[excolor['hue'].between(61,120)].shape[0]},ignore_index=True)\n",
        "colorplot=colorplot.append({'color':'green','value':excolor[excolor['hue'].between(121,180)].shape[0]},ignore_index=True)\n",
        "colorplot=colorplot.append({'color':'cyan','value':excolor[excolor['hue'].between(181,240)].shape[0]},ignore_index=True)\n",
        "colorplot=colorplot.append({'color':'blue','value':excolor[excolor['hue'].between(241,300)].shape[0]},ignore_index=True)\n",
        "colorplot=colorplot.append({'color':'magenta','value':excolor[excolor['hue'].between(301,360)].shape[0]},ignore_index=True)"
      ],
      "metadata": {
        "id": "93AjdXIsegsx"
      },
      "execution_count": null,
      "outputs": []
    },
    {
      "cell_type": "code",
      "source": [
        "colorplot.plot.bar(x=\"color\")"
      ],
      "metadata": {
        "id": "B1xhTrVkg197"
      },
      "execution_count": null,
      "outputs": []
    }
  ]
}